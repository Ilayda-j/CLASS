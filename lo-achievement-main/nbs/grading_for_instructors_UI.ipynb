{
 "cells": [
  {
   "cell_type": "markdown",
   "metadata": {},
   "source": [
    "# Creating a User Interface for Grading for Instructors\n",
    "> Easy grading on Huggingface\n",
    "\n",
    "This notebook creates a user interface to allows instructors to upload files of grading rubrics and students answers to get grades. The code is to be deployed on Huggingface Spaces."
   ]
  },
  {
   "cell_type": "markdown",
   "metadata": {},
   "source": [
    "## Import necessary packages"
   ]
  },
  {
   "cell_type": "raw",
   "metadata": {},
   "source": [
    "---\n",
    "skip_exec: true\n",
    "---"
   ]
  },
  {
   "cell_type": "code",
   "execution_count": null,
   "metadata": {},
   "outputs": [],
   "source": [
    "import gradio as gr"
   ]
  },
  {
   "cell_type": "markdown",
   "metadata": {},
   "source": [
    "# Interface Helpers and Functionality\n",
    "\n",
    "In the next section, we'll create some helper functions and classes to make sure we're able to create the interface we want, and that it behaves nicely.\n",
    "\n",
    "NOTE: Currently, the notebook is only a user interface with no \"hooked up connections\" to functions. The following functions are only some examples of  what might be done while clicking a button."
   ]
  },
  {
   "cell_type": "code",
   "execution_count": null,
   "metadata": {},
   "outputs": [],
   "source": [
    "# Define a function to get the prompt\n",
    "def get_additional_prompt(prompt):\n",
    "    pass\n"
   ]
  },
  {
   "cell_type": "markdown",
   "metadata": {},
   "source": [
    "# The User Interface\n",
    "\n",
    "Below is the actual formatting of the user interface to bee deployed onto Huggingface Space. "
   ]
  },
  {
   "cell_type": "code",
   "execution_count": null,
   "metadata": {},
   "outputs": [
    {
     "name": "stdout",
     "output_type": "stream",
     "text": [
      "Running on local URL:  http://127.0.0.1:7860\n",
      "\n",
      "To create a public link, set `share=True` in `launch()`.\n"
     ]
    },
    {
     "data": {
      "text/html": [
       "<div><iframe src=\"http://127.0.0.1:7860/\" width=\"100%\" height=\"500\" allow=\"autoplay; camera; microphone; clipboard-read; clipboard-write;\" frameborder=\"0\" allowfullscreen></iframe></div>"
      ],
      "text/plain": [
       "<IPython.core.display.HTML object>"
      ]
     },
     "metadata": {},
     "output_type": "display_data"
    },
    {
     "name": "stdout",
     "output_type": "stream",
     "text": [
      "Keyboard interruption in main thread... closing server.\n"
     ]
    },
    {
     "data": {
      "text/plain": []
     },
     "execution_count": null,
     "metadata": {},
     "output_type": "execute_result"
    }
   ],
   "source": [
    "\n",
    "with gr.Blocks() as demo:\n",
    "    gr.Markdown(\"# Grading for Instructors\")\n",
    "\n",
    "# Prompt user to upload the rubrics and students answers\n",
    "    gr.Markdown(\"\"\"\n",
    "    ## Upload rubics for grading and students answers\n",
    "    You will upload the rubrics for grading and student answers here.\n",
    "    \n",
    "    **Note: The embeddings of all the documents you share will be publicly available. Do not use this for any documents you want to keep private.**\n",
    "    \"\"\")\n",
    "    with gr.Tab(\"Upload rubrics\"):\n",
    "        gr.File(file_count=\"multiple\", file_types=[\"text\", \".pdf\", \".csv\", \".jason\"])\n",
    "    with gr.Tab(\"Upload students answers\"):\n",
    "        gr.File(file_count=\"multiple\", file_types=[\"text\", \".pdf\", \".csv\", \".jason\"])\n",
    "        \n",
    "\n",
    "    # Instructs and prompts user to enter addtional prompt\n",
    "    gr.Markdown(\"\"\"\n",
    "    ## Additional prompts\n",
    "    You will write or paste any additional prompts you have here.\n",
    "    \"\"\")\n",
    "    with gr.Group():\n",
    "        gr.Textbox(placeholder = \"Paste/Write any additional prompts here\", label=\"Additional prompts\", scale=6)\n",
    "        gr.Button(\"Enter\", scale=1)\n",
    "    \n",
    "    gr.Markdown(\"### Once you finished uploading all the documents / prompt, click the button below: \")\n",
    "    gr.Button(\"Generate Grades and Download Results\", size=\"lg\")\n",
    "\n",
    "\n",
    "# Launch the Gradio interfaces\n",
    "demo.queue()\n",
    "demo.launch(debug=True)"
   ]
  },
  {
   "cell_type": "markdown",
   "metadata": {},
   "source": [
    "A little helper in case your ports are open and you just want to close them all. If this doesn't work, restart your IDE."
   ]
  },
  {
   "cell_type": "code",
   "execution_count": null,
   "metadata": {},
   "outputs": [],
   "source": [
    "gr.close_all()"
   ]
  }
 ],
 "metadata": {
  "kernelspec": {
   "display_name": "python3",
   "language": "python",
   "name": "python3"
  }
 },
 "nbformat": 4,
 "nbformat_minor": 2
}
