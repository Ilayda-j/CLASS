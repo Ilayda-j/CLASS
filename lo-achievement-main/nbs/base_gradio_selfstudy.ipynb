{
 "cells": [
  {
   "cell_type": "markdown",
   "metadata": {},
   "source": [
    "<a href=\"https://colab.research.google.com/github/vanderbilt-data-science/lo-achievement/blob/update_UI_with_prompts/gradio_application.ipynb\" target=\"_parent\"><img src=\"https://colab.research.google.com/assets/colab-badge.svg\" alt=\"Open In Colab\"/></a>"
   ]
  },
  {
   "cell_type": "markdown",
   "metadata": {},
   "source": [
    "# Creating an User Interface for Self-Study\n",
    "\n",
    "In this notebook, we define functionality to assist with self-study. The code is to be deployed on Huggingface Spaces."
   ]
  },
  {
   "cell_type": "code",
   "execution_count": null,
   "metadata": {},
   "outputs": [],
   "source": [
    "%load_ext autoreload\n",
    "%autoreload 2"
   ]
  },
  {
   "cell_type": "raw",
   "metadata": {},
   "source": [
    "---\n",
    "skip_exec: true\n",
    "---"
   ]
  },
  {
   "cell_type": "code",
   "execution_count": null,
   "metadata": {},
   "outputs": [],
   "source": [
    "#| default_exp UIBaseComponents"
   ]
  },
  {
   "cell_type": "markdown",
   "metadata": {},
   "source": [
    "First, we'll start by loading our own libraries. Keep in mind that if you're on Colab, you need to replace \"token\" below with your GitHub token."
   ]
  },
  {
   "cell_type": "code",
   "execution_count": null,
   "metadata": {},
   "outputs": [],
   "source": [
    "# run this code if you're using Google Colab or don't have these packages installed in your computing environment\n",
    "#! pip install pip install git+https://ghusername:<token>@github.com/vanderbilt-data-science/lo-achievement.git"
   ]
  },
  {
   "cell_type": "markdown",
   "metadata": {},
   "source": [
    "The following is needed because the notebook has been moved into a subfolder. This is how we're able to actually import our modules of interest."
   ]
  },
  {
   "cell_type": "code",
   "execution_count": null,
   "metadata": {},
   "outputs": [],
   "source": [
    "import os\n",
    "import sys\n",
    "\n",
    "# get parent of current working directory\n",
    "parent_dir = os.path.dirname(os.getcwd())\n",
    "\n",
    "#append to path\n",
    "sys.path.append(parent_dir)\n",
    "\n",
    "# modules for testing only\n",
    "from collections import namedtuple\n",
    "from getpass import getpass\n"
   ]
  },
  {
   "cell_type": "code",
   "execution_count": null,
   "metadata": {},
   "outputs": [],
   "source": [
    "#| export\n",
    "import gradio as gr\n",
    "from functools import partial\n",
    "import pandas as pd\n",
    "import os\n",
    "\n",
    "from ai_classroom_suite.PromptInteractionBase import *\n",
    "from ai_classroom_suite.SelfStudyPrompts import *\n",
    "from ai_classroom_suite.MediaVectorStores import *"
   ]
  },
  {
   "cell_type": "markdown",
   "metadata": {},
   "source": [
    "# Helper Functions for Source Definitions\n",
    "\n",
    "We'll first start by defining some helper functions to assist with the source definitions. These functions will be used to populate the source area of the UI."
   ]
  },
  {
   "cell_type": "code",
   "execution_count": null,
   "metadata": {},
   "outputs": [],
   "source": [
    "### Source Display ###\n",
    "\n",
    "def format_source_reference(document, index):\n",
    "  \"\"\"Return a HTML element which contains the `document` info and can be\n",
    "  referenced by the `index`.\"\"\"\n",
    "  source_filepath, source_filename = os.path.split(document.metadata['source'])\n",
    "  return  f\"<p id='source{index}'>[{index+1}] <em>{source_filename}</em><br>...{document.page_content}...</p>\"\n",
    "\n",
    "def format_source_citation(index):\n",
    "  \"\"\"Return a Markdown element which references the element with the given\n",
    "  `index`.\"\"\"\n",
    "  return f\"[{index+1}](#source{index})\"\n",
    "\n",
    "def update_source_list(added_sources):\n",
    "  \"\"\"Add any new sources to the list `srcs`; return a list of integers\n",
    "  containing the index references for each of the given sources in `sources`.\"\"\"\n",
    "  source_indices = []\n",
    "  for source in added_sources:\n",
    "    if source not in srcs: srcs.append(source)\n",
    "    source_indices.append(srcs.index(source))\n",
    "  return source_indices\n",
    "\n",
    "def get_source_display_updates(sources=None):\n",
    "  \"\"\"Dynamically update the output for the given list of components to show\n",
    "  the items as contained within the documents in `sources`.\n",
    "  See https://github.com/gradio-app/gradio/issues/2066 for what I'm copying.\"\"\"\n",
    "  # TODO Currently displays the first 100 sources only, which could be an issue\n",
    "  # TODO Display an alert when the source display is being cut off (over 100\n",
    "  # sources are stored)\n",
    "  update_list = []\n",
    "  for i in range(num_sources):\n",
    "    if i < len(sources):\n",
    "      source_text = format_source_reference(sources[i], i)\n",
    "      update_list.append(gr.update(visible=True, value=source_text))\n",
    "    else:\n",
    "      update_list.append(gr.update(visible=False))\n",
    "  return update_list"
   ]
  },
  {
   "cell_type": "markdown",
   "metadata": {},
   "source": [
    "# Downloading The Conversation\n",
    "Now, we'll create the ability to download the data. We'll allow this to be downloaded in several different formats."
   ]
  },
  {
   "cell_type": "code",
   "execution_count": null,
   "metadata": {},
   "outputs": [],
   "source": [
    "#| export\n",
    "\n",
    "def save_chatbot_dialogue(chat_tutor, save_type):\n",
    "\n",
    "    formatted_convo = pd.DataFrame(chat_tutor.conversation_memory, columns=['user', 'chatbot'])\n",
    "\n",
    "    output_fname = f'tutoring_conversation.{save_type}'\n",
    "\n",
    "    if save_type == 'csv':\n",
    "        formatted_convo.to_csv(output_fname, index=False)\n",
    "    elif save_type == 'json':\n",
    "        formatted_convo.to_json(output_fname, orient='records')\n",
    "    elif save_type == 'txt':\n",
    "        temp = formatted_convo.apply(lambda x: 'User: {0}\\nAI: {1}'.format(x[0], x[1]), axis=1)\n",
    "        temp = '\\n\\n'.join(temp.tolist())\n",
    "        with open(output_fname, 'w') as f:\n",
    "            f.write(temp)\n",
    "    else:\n",
    "        gr.update(value=None, visible=False)\n",
    "    \n",
    "    return gr.update(value=output_fname, visible=True)\n",
    "\n",
    "save_pdf = partial(save_chatbot_dialogue, save_type='pdf')\n",
    "save_json = partial(save_chatbot_dialogue, save_type='json')\n",
    "save_txt = partial(save_chatbot_dialogue, save_type='txt')\n",
    "save_csv = partial(save_chatbot_dialogue, save_type='csv')\n"
   ]
  },
  {
   "cell_type": "markdown",
   "metadata": {},
   "source": [
    "# Interface Helpers and Functionality\n",
    "In the next section, we'll create some helper functions and classes to make sure we're able to create the interface we want, and that it behaves nicely. Further description of each piece will be defined below."
   ]
  },
  {
   "cell_type": "markdown",
   "metadata": {},
   "source": [
    "## State Class: `SlightlyDelusionalTutor`\n",
    "\n",
    "We create this class to help us to maintain the state of the gradio application. This containerization helps us not to have to use global variables. Any global variables created outside of the Blocks definitions [unfortunately belong to all the running instances (in other words, across users.)](https://www.gradio.app/guides/interface-state) Instead, we choose to use a class which contains all of the relevant database, vector store, LLM, chain, memory, and source information. In the definition of the interface below, you'll see that we pass this in and out of functions, using the tutor to contain the state of the app, as well as enabling access to important components of the app."
   ]
  },
  {
   "cell_type": "code",
   "execution_count": null,
   "metadata": {},
   "outputs": [],
   "source": [
    "#| export\n",
    "class SlightlyDelusionalTutor:\n",
    "    # create basic initialization function\n",
    "    def __init__(self, model_name = None):\n",
    "\n",
    "        # create default model name\n",
    "        if model_name is None:\n",
    "            self.model_name = 'gpt-3.5-turbo-16k'\n",
    "\n",
    "        self.chat_llm = None\n",
    "        self.tutor_chain = None\n",
    "        self.vector_store = None\n",
    "        self.vs_retriever = None\n",
    "        self.conversation_memory = []\n",
    "        self.sources_memory = []\n",
    "        self.flattened_conversation = ''\n",
    "        self.api_key_valid = False\n",
    "        self.learning_objectives = None\n",
    "        self.openai_auth = ''\n",
    "        self.system_message = ''\n",
    "    \n",
    "    def set_system_message(self, message):\n",
    "        self.system_message = message\n",
    "    \n",
    "    def embed_key(self, openai_api_key):\n",
    "        if not openai_api_key:\n",
    "            return None\n",
    "        \n",
    "        # Otherwise, update key\n",
    "        os.environ[\"OPENAI_API_KEY\"] = openai_api_key\n",
    "        \n",
    "        #update tutor\n",
    "        self.openai_auth = openai_api_key\n",
    "\n",
    "        if not self.api_key_valid:\n",
    "            self.initialize_llm()\n",
    "    \n",
    "    def initialize_llm(self):\n",
    "\n",
    "        if self.openai_auth:\n",
    "            try:\n",
    "                self.chat_llm = create_model(self.model_name, openai_api_key = self.openai_auth)\n",
    "                self.api_key_valid = True\n",
    "            except Exception as e:\n",
    "                print(e)\n",
    "                self.api_key_valid = False\n",
    "        else:\n",
    "            print(\"Please provide an OpenAI API key and press Enter.\")\n",
    "    \n",
    "    def initialize_basic_model(self, openai_auth=None, **mdl_chain_kwargs):\n",
    "        # get the key\n",
    "        if openai_auth is None:\n",
    "            openai_auth = os.environ.get(\"OPENAI_API_KEY\", None)\n",
    "            # we need to create some kind of warning here\n",
    "\n",
    "        # create the tutor chain\n",
    "        if not self.api_key_valid or not self.openai_auth:\n",
    "            self.embed_key(openai_auth)\n",
    "        \n",
    "        if self.vs_retriever is not None:\n",
    "            if 'retriever' in mdl_chain_kwargs:\n",
    "                mdl_chain_kwargs['retriever'] = self.vs_retriever\n",
    "                mdl_chain_kwargs['mdl'] = self.chat_llm\n",
    "            self.tutor_chain = create_tutor_mdl_chain(**mdl_chain_kwargs)\n",
    "        else:\n",
    "            self.tutor_chain = self.chat_llm\n",
    "        \n",
    "    def add_user_message(self, user_message):\n",
    "        self.conversation_memory.append([user_message, None])\n",
    "        self.flattened_conversation = self.flattened_conversation + '\\n\\n' + 'User: ' + user_message\n",
    "    \n",
    "    def _update_chat_history(self, tutor_message):\n",
    "        self.conversation_memory[-1] = (self.conversation_memory[-1][0], tutor_message['answer'])\n",
    "        self.flattened_conversation = self.flattened_conversation + '\\nAI: ' + tutor_message['answer']\n",
    "        self.sources_memory.append(tutor_message['source_documents'])\n",
    "\n",
    "    def get_direct_tutor_reply(self):\n",
    "        if not self.conversation_memory:\n",
    "            return \"Please type something to start the conversation.\"\n",
    "        \n",
    "        # get answer\n",
    "        message_with_history = self.conversation_memory[-1][0] + '\\n\\n\\n So far, our conversation has been: \\n'\n",
    "        if self.system_message:\n",
    "            tutor_message = get_direct_answer(self.tutor_chain, human_prompt=message_with_history, system_prompt = self.system_message)\n",
    "        else:\n",
    "            tutor_message = get_direct_answer(self.tutor_chain, human_prompt=message_with_history)\n",
    "\n",
    "        # add tutor message to conversation memory\n",
    "        self.conversation_memory[-1][1] = tutor_message\n",
    "        self.flattened_conversation = self.flattened_conversation + '\\nAI: ' + tutor_message\n",
    "\n",
    "    def get_tutor_reply(self, **input_kwargs):\n",
    "\n",
    "        if not self.conversation_memory:\n",
    "            return \"Please type something to start the conversation.\"\n",
    "\n",
    "        # if this is the first interaction, then we need to use the full prompt\n",
    "        if len(self.conversation_memory) <= 1:\n",
    "            input_kwargs['chat_history'] = []\n",
    "            input_kwargs['question'] = ''\n",
    "        else:\n",
    "            input_kwargs['chat_history'] = self.conversation_memory[:-1]\n",
    "            input_kwargs['question'] = self.conversation_memory[-1][0]\n",
    "\n",
    "        tutor_message = get_tutoring_answer('See provided documents and question for more information.',\n",
    "                                     self.tutor_chain,\n",
    "                                     assessment_request = self.conversation_memory[-1][0], #this will not be used after the first interaction\n",
    "                                     learning_objectives = self.learning_objectives,\n",
    "                                     return_dict=True,\n",
    "                                     input_kwargs=input_kwargs)\n",
    "\n",
    "        # add tutor message to conversation memory\n",
    "        self._update_chat_history(tutor_message)\n",
    "        \n",
    "        #print(self.flattened_conversation, '\\n\\n')\n",
    "    \n",
    "    def get_sources_memory(self):\n",
    "        # retrieve last source\n",
    "        last_sources = self.sources_memory[-1]\n",
    "\n",
    "        # get page_content keyword from last_sources\n",
    "        doc_contents = ['Source ' + str(ind+1) + '\\n\"' + doc.page_content + '\"\\n\\n' for ind, doc in enumerate(last_sources)]\n",
    "        doc_contents = ''.join(doc_contents)\n",
    "\n",
    "        return doc_contents\n",
    "    \n",
    "    def forget_conversation(self):\n",
    "        self.conversation_memory = []\n",
    "        self.sources_memory = []\n",
    "        self.flattened_conversation = ''"
   ]
  },
  {
   "cell_type": "markdown",
   "metadata": {},
   "source": [
    "## Callbacks\n",
    "### embed_key\n",
    "\n",
    "This function is called whenever the API textbox either has someone press enter (`submit` event) or when the textbox loses focus (`blur` event). This allows us to capture the key regardless of whether they press enter or not."
   ]
  },
  {
   "cell_type": "code",
   "execution_count": null,
   "metadata": {},
   "outputs": [],
   "source": [
    "#| export\n",
    "def embed_key(openai_api_key, chat_tutor):\n",
    "  chat_tutor.embed_key(openai_api_key)\n",
    "  return chat_tutor"
   ]
  },
  {
   "cell_type": "code",
   "execution_count": null,
   "metadata": {},
   "outputs": [],
   "source": [
    "#| export\n",
    "def initialize_basic_model(chat_tutor, openai_auth=None, **mdl_chain_kwargs):\n",
    "    chat_tutor.initialize_basic_model(openai_auth, **mdl_chain_kwargs)\n",
    "\n",
    "    return chat_tutor"
   ]
  },
  {
   "cell_type": "markdown",
   "metadata": {},
   "source": [
    "### Start Studying with Tutor\n",
    "The `create_reference_store` function is used essentially to initialize the tutor with the vector store, retriever, and the RetrievalQAWithSources chain. This function is called whenever the user clicks \"Starting Studying with Tutor\" button after providing any text or stores to be used."
   ]
  },
  {
   "cell_type": "code",
   "execution_count": null,
   "metadata": {},
   "outputs": [],
   "source": [
    "#| export\n",
    "def create_reference_store(chat_tutor, vs_button, text_cp, upload_files, reference_vs, openai_auth, learning_objs):\n",
    "\n",
    "    text_segs = []\n",
    "    upload_segs = []\n",
    "\n",
    "    print('I just got called.')\n",
    "    \n",
    "    if reference_vs:\n",
    "        raise NotImplementedError(\"Reference Vector Stores are not yet implemented\")\n",
    "    \n",
    "    if text_cp.strip():\n",
    "        text_segs = get_document_segments(text_cp, 'text', chunk_size=700, chunk_overlap=100)\n",
    "        [doc.metadata.update({'source':'text box'}) for doc in text_segs];\n",
    "    \n",
    "    if upload_files:\n",
    "        upload_fnames = [f.name for f in upload_files]\n",
    "        upload_segs = get_document_segments(upload_fnames, 'file', chunk_size=700, chunk_overlap=100)\n",
    "    \n",
    "    # get the full list of everything\n",
    "    all_segs = text_segs + upload_segs\n",
    "\n",
    "    # store learning objectives\n",
    "    chat_tutor.learning_objectives = learning_objs\n",
    "\n",
    "    # create the vector store and update tutor\n",
    "    vs_db, vs_retriever = create_local_vector_store(all_segs, search_kwargs={\"k\": 2})\n",
    "    chat_tutor.vector_store = vs_db\n",
    "    chat_tutor.vs_retriever = vs_retriever\n",
    "\n",
    "    # create the tutor chain\n",
    "    chat_tutor = initialize_basic_model(chat_tutor,\n",
    "                                        openai_auth=openai_auth,\n",
    "                                        kind=\"conversational\",\n",
    "                                        mdl=chat_tutor.chat_llm,\n",
    "                                        retriever = vs_retriever,\n",
    "                                        return_source_documents=True)\n",
    "\n",
    "    # return the story\n",
    "    return chat_tutor, gr.update(interactive=True, value='Tutor Initialized!')"
   ]
  },
  {
   "cell_type": "markdown",
   "metadata": {},
   "source": [
    "### A small test suite for reference store, etc. debugging\n",
    "Occasionally, this code goes wrong. The code below is used for testing in such cases."
   ]
  },
  {
   "cell_type": "code",
   "execution_count": null,
   "metadata": {},
   "outputs": [],
   "source": [
    "# Setup OpenAI API Key (uncomment to use)\n",
    "#os.environ['OPENAI_API_KEY'] = getpass()\n",
    "\n",
    "# Create an instance of the class\n",
    "#mdl_test = SlightlyDelusionalTutor()\n",
    "\n",
    "# Define a namedtuple called 'Files' with a field named 'name'\n",
    "#Files = namedtuple('Files', ['name'])\n",
    "#up_files = [Files(name='../roadnottaken.txt')]\n",
    "\n",
    "#outtest, _ = create_reference_store(mdl_test, '', '', up_files, None, os.environ['OPENAI_API_KEY'], 'Some objectives')"
   ]
  },
  {
   "cell_type": "code",
   "execution_count": null,
   "metadata": {},
   "outputs": [],
   "source": [
    "# Add a user message the same way we would normally\n",
    "#outtest.add_user_message('The road not taken was something interesting.')\n",
    "\n",
    "# get a tutor reply\n",
    "#outtest.get_tutor_reply()\n",
    "\n",
    "# see the tutor reply\n",
    "#outtest.conversation_memory[-1][1]"
   ]
  },
  {
   "cell_type": "markdown",
   "metadata": {},
   "source": [
    "This result doesn't look very good but hopefully that won't be an issue when the code is actually running."
   ]
  },
  {
   "cell_type": "markdown",
   "metadata": {},
   "source": [
    "### Getting help with prompts\n",
    "The following `prompt_select` callback is used when the user wants a little help with creating a prompt. As you can see below, the prompt is directly created based on the user's selections. This prompt immediately fills the prompt textbox, as well as begins the conversation in the chat window."
   ]
  },
  {
   "cell_type": "code",
   "execution_count": null,
   "metadata": {},
   "outputs": [],
   "source": [
    "#| export\n",
    "### Gradio Called Functions ###\n",
    "\n",
    "def prompt_select(selection, number, length):\n",
    "  if selection == \"Random\":\n",
    "    prompt = f\"Please design a {number} question quiz based on the context provided and the inputted learning objectives (if applicable). The types of questions should be randomized (including multiple choice, short answer, true/false, short answer, etc.).  Provide one question at a time, and wait for my response before providing me with feedback. Again, while the quiz may ask for multiple questions, you should only provide 1 question in you initial response. Do not include the answer in your response. If I get an answer wrong, provide me with an explanation of why it was incorrect, and then give me additional chances to respond until I get the correct choice. Explain why the correct choice is right.\"\n",
    "  elif selection == \"Fill in the Blank\":\n",
    "    prompt = f\"Create a {number} question fill in the blank quiz refrencing the context provided. The quiz should reflect the learning objectives (if inputted). The 'blank' part of the question should appear as '________'. The answers should reflect what word(s) should go in the blank an accurate statement. An example is the follow: 'The author of the article is ______.' The question should be a statement. Provide one question at a time, and wait for my response before providing me with feedback. Again, while the quiz may ask for multiple questions, you should only provide ONE question in you initial response. Do not include the answer in your response. If I get an answer wrong, provide me with an explanation of why it was incorrect,and then give me additional chances to respond until I get the correct choice. Explain why the correct choice is right.\"\n",
    "  elif selection == \"Short Answer\":\n",
    "    prompt = f\"Please design a {number} question quiz about which reflects the learning objectives (if inputted).  The questions should be short answer. Expect the correct answers to be {length} sentences long. Provide one question at a time, and wait for my response before providing me with feedback. Again, while the quiz may ask for multiple questions, you should only provide ONE question in you initial response. Do not include the answer in your response. If I get an answer wrong, provide me with an explanation of why it was incorrect, and then give me additional chances to respond until I get the correct choice. Explain why the correct answer is right.\"\n",
    "  else:\n",
    "    prompt = f\"Please design a {number} question {selection.lower()} quiz based on the context provided and the inputted learning objectives (if applicable). Provide one question at a time, and wait for my response before providing me with feedback. Again, while the quiz may ask for multiple questions, you should only provide 1 question in you initial response. Do not include the answer in your response. If I get an answer wrong, provide me with an explanation of why it was incorrect, and then give me additional chances to respond until I get the correct choice. Explain why the correct choice is right.\"\n",
    "  return prompt, prompt\n",
    "    "
   ]
  },
  {
   "cell_type": "markdown",
   "metadata": {},
   "source": [
    "### Chatting with the Tutor\n",
    "The following functions are callbacks for the ChatBot functionality, where the user enters their information into a text field, presses enter (or clicks an associated button), and then receives a response. Again, the State Class above keeps track of the entire state of the app, including the conversational history.\n",
    "\n",
    "The conversational history is currently stored as a list of 2-element lists, where the first element is the user's input, and the second element is the tutor's response. This chat history in this format is actually used as an input to the chatbot, and our stored state facilitates this.\n",
    "\n",
    "Additionally, within our class, you will see that sending a user message creates a new list-like element in the history list. Whenever we want to get the tutor's response, we get the response and record it as the second element of this conversation entry."
   ]
  },
  {
   "cell_type": "code",
   "execution_count": null,
   "metadata": {},
   "outputs": [],
   "source": [
    "#| export\n",
    "### Chatbot Functions ###\n",
    "\n",
    "def add_user_message(user_message, chat_tutor):\n",
    "  \"\"\"Display user message and update chat history to include it.\n",
    "  Also disables user text input until bot is finished (call to reenable_chat())\n",
    "  See https://gradio.app/creating-a-chatbot/\"\"\"\n",
    "  chat_tutor.add_user_message(user_message)\n",
    "  return gr.update(value=\"\", interactive=False), chat_tutor.conversation_memory, chat_tutor\n",
    "\n",
    "def get_tutor_reply(chat_tutor):\n",
    "  chat_tutor.get_tutor_reply()\n",
    "  return gr.update(value=\"\", interactive=True), gr.update(visible=True, value=chat_tutor.get_sources_memory()), chat_tutor.conversation_memory, chat_tutor\n",
    "\n",
    "num_sources = 2"
   ]
  },
  {
   "cell_type": "code",
   "execution_count": null,
   "metadata": {},
   "outputs": [],
   "source": [
    "#| export\n",
    "def disable_until_done(obj_in):\n",
    "    return gr.update(interactive=False)"
   ]
  },
  {
   "cell_type": "markdown",
   "metadata": {},
   "source": [
    "# The User Interface\n",
    "Below, we put all of this information together with the actual formatting of the user interface."
   ]
  },
  {
   "cell_type": "code",
   "execution_count": null,
   "metadata": {},
   "outputs": [],
   "source": [
    "#| export\n",
    "# add theme information (see. gr.themes.builder())\n",
    "gr_study_tutor_theme = gr.themes.Soft(\n",
    "    primary_hue=\"slate\",\n",
    ").set(\n",
    "    body_background_fill='*primary_500',\n",
    "    body_text_color_subdued='*neutral_500',\n",
    "    body_text_color_subdued_dark='*neutral_500',\n",
    "    background_fill_primary='*neutral_500',\n",
    "    background_fill_secondary='*primary_400',\n",
    "    prose_header_text_weight='700',\n",
    "    block_background_fill='*primary_300',\n",
    "    block_border_width='5px',\n",
    "    block_title_text_size='*text_lg',\n",
    "    #form_gap_width='*layout_gap',\n",
    "    panel_border_width='*block_border_width',\n",
    "    panel_border_width_dark='*block_border_width',\n",
    "    section_header_text_size='*text_lg'\n",
    ")"
   ]
  },
  {
   "cell_type": "code",
   "execution_count": null,
   "metadata": {},
   "outputs": [
    {
     "name": "stderr",
     "output_type": "stream",
     "text": [
      "/tmp/ipykernel_62956/3581512034.py:98: GradioUnusedKwargWarning: You have unused kwarg parameters in Box, please remove them: {'scale': 1}\n",
      "  with gr.Box(elem_id=\"sources-container\", scale=1):\n"
     ]
    }
   ],
   "source": [
    "#| export\n",
    "# See https://gradio.app/custom-CSS-and-JS/\n",
    "css=\"\"\"\n",
    "#asheader { font-size: 32px !important; font-weight: 800 !important; margin: 0.67em 0; }\n",
    "#sources-container {\n",
    "  overflow: scroll !important; /* Needs to override default formatting */\n",
    "  /*max-height: 20em; */ /* Arbitrary value */\n",
    "}\n",
    "#sources-container > div { padding-bottom: 1em !important; /* Arbitrary value */ }\n",
    ".short-height > * > * { min-height: 0 !important; }\n",
    ".translucent { opacity: 0.5; }\n",
    ".textbox_label { padding-bottom: .5em; }\n",
    "\"\"\"\n",
    "#srcs = [] # Reset sources (db and qa are kept the same for ease of testing)\n",
    "\n",
    "with gr.Blocks(css=css, analytics_enabled=False, theme=gr_study_tutor_theme) as FullStudyApp:\n",
    "\n",
    "  #initialize tutor (with state)\n",
    "  study_tutor = gr.State(SlightlyDelusionalTutor())\n",
    "\n",
    "  # Title\n",
    "  gr.Markdown(\"# Studying with a Slightly Delusional Tutor\")\n",
    "\n",
    "  # API Authentication functionality\n",
    "  with gr.Box():\n",
    "    gr.Markdown(\"### OpenAI API Key \")\n",
    "    gr.HTML(\"\"\"<span>Embed your OpenAI API key below; if you haven't created one already, visit\n",
    "      <a href=\"https://platform.openai.com/account/api-keys\">platform.openai.com/account/api-keys</a>\n",
    "    to sign up for an account and get your personal API key</span>\"\"\",\n",
    "            elem_classes=\"textbox_label\")\n",
    "    api_input = gr.Textbox(show_label=False, type=\"password\", container=False, autofocus=True,\n",
    "                      placeholder=\"●●●●●●●●●●●●●●●●●\", value='')\n",
    "    api_input.submit(fn=embed_key, inputs=[api_input, study_tutor], outputs=study_tutor)\n",
    "    api_input.blur(fn=embed_key, inputs=[api_input, study_tutor], outputs=study_tutor)\n",
    "\n",
    "  # Reference document functionality (building vector stores)\n",
    "  with gr.Box():\n",
    "    gr.Markdown(\"### Add Reference Documents\")\n",
    "    # TODO Add entry for path to vector store (should be disabled for now)\n",
    "    with gr.Column():\n",
    "      with gr.Row(equal_height=True):\n",
    "        text_input = gr.TextArea(label='Copy and paste your text below',\n",
    "                                  lines=2)\n",
    "\n",
    "        file_input = gr.Files(label=\"Load a .txt or .pdf file\",\n",
    "                              file_types=['.pdf', '.txt'], type=\"file\",\n",
    "                              elem_classes=\"short-height\")\n",
    "\n",
    "        instructor_input = gr.TextArea(label='Enter vector store URL, if given by instructor (WIP)', value='',\n",
    "                                  lines=2, interactive=False, elem_classes=\"translucent\")\n",
    "      \n",
    "      # Adding the learning objectives\n",
    "      learning_objectives = gr.Textbox(label='What topic or concept are you trying to learn more about?',\n",
    "                                      placeholder='e.g., Understanding the best practices of prompting for LLMs', value='')\n",
    "    \n",
    "    # Adding the button to submit all of the settings and create the Chat Tutor Chain.\n",
    "      vs_build_button = gr.Button(value = 'Start Studying with Your Tutor!', scale=1)\n",
    "      \n",
    "      vs_build_button.click(disable_until_done, vs_build_button, vs_build_button, queue=True) \\\n",
    "        .then(create_reference_store, [study_tutor, vs_build_button, text_input, file_input, instructor_input, api_input, learning_objectives],\n",
    "                            [study_tutor, vs_build_button], queue=False)\n",
    "\n",
    "  \n",
    "\n",
    "  # Premade question prompts\n",
    "  with gr.Box():\n",
    "    gr.Markdown(\"\"\"## Use Premade Prompts\n",
    "                Need some help getting started with your prompt? Use the dropdown below to help you get started.\n",
    "                Otherwise, you can hop to the next section and begin directly interacting with your tutor!\"\"\")\n",
    "    with gr.Accordion(\"Help me create an interactive prompt\", open=False):\n",
    "      gr.Markdown(\"\"\"\n",
    "      ### Generating a prompt\n",
    "      Select your type and number of desired questions. Click \"Generate Prompt\" to get your premade prompt,\n",
    "      and then \"Insert Prompt into Chat\" to copy the text into the chat interface below. \\\n",
    "      You can also copy the prompt using the icon in the upper right corner and paste directly into the input box when interacting with the model.\n",
    "      \"\"\")\n",
    "      with gr.Row():\n",
    "        with gr.Column():\n",
    "          question_type = gr.Dropdown([\"Multiple Choice\", \"True or False\", \"Short Answer\", \"Fill in the Blank\", \"Random\"], label=\"Question Type\")\n",
    "          number_of_questions = gr.Textbox(label=\"Enter desired number of questions\")\n",
    "          sa_desired_length = gr.Dropdown([\"1-2\", \"3-4\", \"5-6\", \"6 or more\"], label = \"For short answer questions only, choose the desired sentence length for answers. The default value is 1-2 sentences.\")\n",
    "        with gr.Column():\n",
    "          prompt_button = gr.Button(\"Generate Prompt\")\n",
    "          premade_prompt_output = gr.Textbox(label=\"Generated prompt (save or copy)\", show_copy_button=True)\n",
    "\n",
    "\n",
    "  # Chatbot interface\n",
    "  with gr.Box():\n",
    "    gr.Markdown(\"## Chat with Your Tutor\")\n",
    "    with gr.Row(equal_height=True):\n",
    "      with gr.Column(scale=2):\n",
    "        chatbot = gr.Chatbot()\n",
    "        with gr.Row():\n",
    "          user_chat_input = gr.Textbox(label=\"User input\", scale=9)\n",
    "          user_chat_submit = gr.Button(\"Ask/answer model\", scale=1)\n",
    "\n",
    "      # sources\n",
    "      with gr.Box(elem_id=\"sources-container\", scale=1):\n",
    "        # TODO: Display document sources in a nicer format?\n",
    "        gr.HTML(value=\"<h3 id='sources'>Referenced Sources</h3>\")\n",
    "        sources_output = gr.Textbox(value='', interactive=False, visible=False, show_label=False)\n",
    "        #sources_output = []\n",
    "        #for i in range(num_sources):\n",
    "        #  source_elem = gr.HTML(visible=False)\n",
    "        #  sources_output.append(source_elem)\n",
    "\n",
    "  #define the behavior of prompt button later since it depends on user_chat_input\n",
    "  prompt_button.click(prompt_select,\n",
    "                      inputs=[question_type, number_of_questions, sa_desired_length],\n",
    "                      outputs=[premade_prompt_output, user_chat_input])\n",
    "\n",
    "  # Display input and output in three-ish parts\n",
    "  # (using asynchronous functions):\n",
    "  # First show user input, then show model output when complete\n",
    "  # Then wait until the bot provides response and return the result\n",
    "  # Finally, allow the user to ask a new question by reenabling input\n",
    "  async_response = user_chat_submit.click(add_user_message,\n",
    "            [user_chat_input, study_tutor],\n",
    "            [user_chat_input, chatbot, study_tutor], queue=False) \\\n",
    "  .then(get_tutor_reply, [study_tutor], [user_chat_input, sources_output, chatbot, study_tutor], queue=True)\n",
    "\n",
    "  async_response_b = user_chat_input.submit(add_user_message,\n",
    "            [user_chat_input, study_tutor],\n",
    "            [user_chat_input, chatbot, study_tutor], queue=False) \\\n",
    "  .then(get_tutor_reply, [study_tutor], [user_chat_input, sources_output, chatbot, study_tutor], queue=True)\n",
    "\n",
    "  with gr.Box():\n",
    "    gr.Markdown(\"\"\"\n",
    "    ## Export Your Chat History\n",
    "    Export your chat history as a .json, PDF file, .txt, or .csv file\n",
    "    \"\"\")\n",
    "    with gr.Row():\n",
    "      export_dialogue_button_json = gr.Button(\"JSON\")\n",
    "      export_dialogue_button_pdf = gr.Button(\"PDF\")\n",
    "      export_dialogue_button_txt = gr.Button(\"TXT\")\n",
    "      export_dialogue_button_csv = gr.Button(\"CSV\")\n",
    "    \n",
    "    file_download = gr.Files(label=\"Download here\",\n",
    "                            file_types=['.pdf', '.txt', '.csv', '.json'], type=\"file\", visible=False)\n",
    "    \n",
    "    export_dialogue_button_json.click(save_json, study_tutor, file_download, show_progress=True)\n",
    "    export_dialogue_button_pdf.click(save_pdf, study_tutor, file_download, show_progress=True)\n",
    "    export_dialogue_button_txt.click(save_txt, study_tutor, file_download, show_progress=True)\n",
    "    export_dialogue_button_csv.click(save_csv, study_tutor, file_download, show_progress=True)\n"
   ]
  },
  {
   "cell_type": "code",
   "execution_count": null,
   "metadata": {},
   "outputs": [],
   "source": [
    "FullStudyApp.queue()\n",
    "FullStudyApp.launch(debug=True)"
   ]
  },
  {
   "cell_type": "markdown",
   "metadata": {},
   "source": [
    "A little helper in case your ports are open and you just want to close them all. If this doesn't work, restart your IDE."
   ]
  },
  {
   "cell_type": "code",
   "execution_count": null,
   "metadata": {},
   "outputs": [],
   "source": [
    "gr.close_all()"
   ]
  }
 ],
 "metadata": {
  "kernelspec": {
   "display_name": "python3",
   "name": "python3"
  }
 },
 "nbformat": 4,
 "nbformat_minor": 0
}
